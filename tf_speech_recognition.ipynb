{
  "nbformat": 4,
  "nbformat_minor": 0,
  "metadata": {
    "colab": {
      "name": "tf-speech-recognition.ipynb",
      "provenance": [],
      "authorship_tag": "ABX9TyNSxmatmd62eap9Ab4NXdV4"
    },
    "kernelspec": {
      "name": "python3",
      "display_name": "Python 3"
    },
    "accelerator": "GPU"
  },
  "cells": [
    {
      "cell_type": "markdown",
      "metadata": {
        "id": "7PsyloDiG3qe",
        "colab_type": "text"
      },
      "source": [
        "# Tensorflow Speech Recognition Challenge\n",
        "\n",
        "Kaggle challenge: https://www.kaggle.com/c/tensorflow-speech-recognition-challenge"
      ]
    },
    {
      "cell_type": "markdown",
      "metadata": {
        "id": "vskeC35lHshw",
        "colab_type": "text"
      },
      "source": [
        "## Set up \n",
        "\n",
        "### Mount Google Drive"
      ]
    },
    {
      "cell_type": "code",
      "metadata": {
        "id": "OoBCI2_TGycj",
        "colab_type": "code",
        "colab": {
          "base_uri": "https://localhost:8080/",
          "height": 125
        },
        "outputId": "25138404-c19b-41be-dc27-b3f74a8b5167"
      },
      "source": [
        "from google.colab import drive\n",
        "drive.mount('/content/drive')"
      ],
      "execution_count": 1,
      "outputs": [
        {
          "output_type": "stream",
          "text": [
            "Go to this URL in a browser: https://accounts.google.com/o/oauth2/auth?client_id=947318989803-6bn6qk8qdgf4n4g3pfee6491hc0brc4i.apps.googleusercontent.com&redirect_uri=urn%3aietf%3awg%3aoauth%3a2.0%3aoob&scope=email%20https%3a%2f%2fwww.googleapis.com%2fauth%2fdocs.test%20https%3a%2f%2fwww.googleapis.com%2fauth%2fdrive%20https%3a%2f%2fwww.googleapis.com%2fauth%2fdrive.photos.readonly%20https%3a%2f%2fwww.googleapis.com%2fauth%2fpeopleapi.readonly&response_type=code\n",
            "\n",
            "Enter your authorization code:\n",
            "4/3wGes5aQQ1bl8Y9azaWvduI62XeaJRJ40kuyYifdJLqFQhUQ7Z6CEKs\n",
            "Mounted at /content/drive\n"
          ],
          "name": "stdout"
        }
      ]
    },
    {
      "cell_type": "code",
      "metadata": {
        "id": "ynqRjZCIHSDV",
        "colab_type": "code",
        "colab": {}
      },
      "source": [
        "import os\n",
        "PATH = '/content/drive/My Drive'\n",
        "os.chdir(PATH)"
      ],
      "execution_count": 2,
      "outputs": []
    },
    {
      "cell_type": "markdown",
      "metadata": {
        "id": "n3rOl9GkHwsl",
        "colab_type": "text"
      },
      "source": [
        "### Upgrade Kaggle package and download dataset"
      ]
    },
    {
      "cell_type": "code",
      "metadata": {
        "id": "iXrqbZXjG-mo",
        "colab_type": "code",
        "colab": {
          "base_uri": "https://localhost:8080/",
          "height": 510
        },
        "outputId": "9084f442-0783-40aa-af4f-e50eada3a19a"
      },
      "source": [
        "!pip install kaggle --upgrade"
      ],
      "execution_count": 3,
      "outputs": [
        {
          "output_type": "stream",
          "text": [
            "Collecting kaggle\n",
            "\u001b[?25l  Downloading https://files.pythonhosted.org/packages/fc/14/9db40d8d6230655e76fa12166006f952da4697c003610022683c514cf15f/kaggle-1.5.8.tar.gz (59kB)\n",
            "\r\u001b[K     |█████▌                          | 10kB 25.7MB/s eta 0:00:01\r\u001b[K     |███████████                     | 20kB 6.4MB/s eta 0:00:01\r\u001b[K     |████████████████▋               | 30kB 7.3MB/s eta 0:00:01\r\u001b[K     |██████████████████████▏         | 40kB 8.0MB/s eta 0:00:01\r\u001b[K     |███████████████████████████▊    | 51kB 6.8MB/s eta 0:00:01\r\u001b[K     |████████████████████████████████| 61kB 4.1MB/s \n",
            "\u001b[?25hRequirement already satisfied, skipping upgrade: urllib3<1.25,>=1.21.1 in /usr/local/lib/python3.6/dist-packages (from kaggle) (1.24.3)\n",
            "Requirement already satisfied, skipping upgrade: six>=1.10 in /usr/local/lib/python3.6/dist-packages (from kaggle) (1.15.0)\n",
            "Requirement already satisfied, skipping upgrade: certifi in /usr/local/lib/python3.6/dist-packages (from kaggle) (2020.6.20)\n",
            "Requirement already satisfied, skipping upgrade: python-dateutil in /usr/local/lib/python3.6/dist-packages (from kaggle) (2.8.1)\n",
            "Requirement already satisfied, skipping upgrade: requests in /usr/local/lib/python3.6/dist-packages (from kaggle) (2.23.0)\n",
            "Requirement already satisfied, skipping upgrade: tqdm in /usr/local/lib/python3.6/dist-packages (from kaggle) (4.41.1)\n",
            "Requirement already satisfied, skipping upgrade: python-slugify in /usr/local/lib/python3.6/dist-packages (from kaggle) (4.0.1)\n",
            "Collecting slugify\n",
            "  Downloading https://files.pythonhosted.org/packages/7b/89/fbb7391d777b60c82d4e1376bb181b98e75adf506b3f7ffe837eca64570b/slugify-0.0.1.tar.gz\n",
            "Requirement already satisfied, skipping upgrade: chardet<4,>=3.0.2 in /usr/local/lib/python3.6/dist-packages (from requests->kaggle) (3.0.4)\n",
            "Requirement already satisfied, skipping upgrade: idna<3,>=2.5 in /usr/local/lib/python3.6/dist-packages (from requests->kaggle) (2.10)\n",
            "Requirement already satisfied, skipping upgrade: text-unidecode>=1.3 in /usr/local/lib/python3.6/dist-packages (from python-slugify->kaggle) (1.3)\n",
            "Building wheels for collected packages: kaggle, slugify\n",
            "  Building wheel for kaggle (setup.py) ... \u001b[?25l\u001b[?25hdone\n",
            "  Created wheel for kaggle: filename=kaggle-1.5.8-cp36-none-any.whl size=73275 sha256=90313f3369beeb2be523e26e6901b46d451487327d3a0dab93ef9201e28547fb\n",
            "  Stored in directory: /root/.cache/pip/wheels/94/a7/09/68dc83c7c14fdbdf5d3f2b2da5b87e587bfc1e85df69b1130c\n",
            "  Building wheel for slugify (setup.py) ... \u001b[?25l\u001b[?25hdone\n",
            "  Created wheel for slugify: filename=slugify-0.0.1-cp36-none-any.whl size=1910 sha256=d90ccb23502c12bd18dedb026541a87035f06694425327e5a848109e35518143\n",
            "  Stored in directory: /root/.cache/pip/wheels/f9/68/7b/b797d07992b6c7ef1666a59cc79f45fb37aab4344efa6cc3e1\n",
            "Successfully built kaggle slugify\n",
            "Installing collected packages: slugify, kaggle\n",
            "  Found existing installation: kaggle 1.5.6\n",
            "    Uninstalling kaggle-1.5.6:\n",
            "      Successfully uninstalled kaggle-1.5.6\n",
            "Successfully installed kaggle-1.5.8 slugify-0.0.1\n"
          ],
          "name": "stdout"
        }
      ]
    },
    {
      "cell_type": "code",
      "metadata": {
        "id": "XJ_knImuHH7J",
        "colab_type": "code",
        "colab": {}
      },
      "source": [
        "# ! mkdir ~/.kaggle\n",
        "! cp kaggle.json ~/.kaggle/\n",
        "! chmod 600 ~/.kaggle/kaggle.json"
      ],
      "execution_count": 7,
      "outputs": []
    },
    {
      "cell_type": "code",
      "metadata": {
        "id": "SDJhXKa4G04_",
        "colab_type": "code",
        "colab": {}
      },
      "source": [
        "PATH = '/content/drive/My Drive/tf-speech-recognition'\n",
        "# os.makedirs(PATH, exist_ok=True)\n",
        "os.chdir(PATH)"
      ],
      "execution_count": 3,
      "outputs": []
    },
    {
      "cell_type": "code",
      "metadata": {
        "id": "wBr7rrv8HAa9",
        "colab_type": "code",
        "colab": {
          "base_uri": "https://localhost:8080/",
          "height": 70
        },
        "outputId": "1431d07a-7e4b-4335-9b15-2d72990422f6"
      },
      "source": [
        "!kaggle competitions download -c tensorflow-speech-recognition-challenge"
      ],
      "execution_count": 10,
      "outputs": [
        {
          "output_type": "stream",
          "text": [
            "Downloading tensorflow-speech-recognition-challenge.zip to /content/drive/My Drive/tf-speech-recognition\n",
            "100% 3.49G/3.50G [01:00<00:00, 62.9MB/s]\n",
            "100% 3.50G/3.50G [01:00<00:00, 62.6MB/s]\n"
          ],
          "name": "stdout"
        }
      ]
    },
    {
      "cell_type": "markdown",
      "metadata": {
        "id": "TWgsnytLIkzO",
        "colab_type": "text"
      },
      "source": [
        "### Unzip files"
      ]
    },
    {
      "cell_type": "code",
      "metadata": {
        "id": "WHsEqxA1IQt6",
        "colab_type": "code",
        "colab": {
          "base_uri": "https://localhost:8080/",
          "height": 34
        },
        "outputId": "e8786874-dbed-4117-9a62-c208a34fa369"
      },
      "source": [
        "!ls"
      ],
      "execution_count": 12,
      "outputs": [
        {
          "output_type": "stream",
          "text": [
            "tensorflow-speech-recognition-challenge.zip\n"
          ],
          "name": "stdout"
        }
      ]
    },
    {
      "cell_type": "code",
      "metadata": {
        "id": "fAjDs3vZIS0a",
        "colab_type": "code",
        "colab": {}
      },
      "source": [
        "import zipfile\n",
        "with zipfile.ZipFile('tensorflow-speech-recognition-challenge.zip', 'r') as zip_ref:\n",
        "    zip_ref.extractall()"
      ],
      "execution_count": 13,
      "outputs": []
    },
    {
      "cell_type": "code",
      "metadata": {
        "id": "r7TBEEAwIm4N",
        "colab_type": "code",
        "colab": {
          "base_uri": "https://localhost:8080/",
          "height": 70
        },
        "outputId": "b2b4956c-14cc-4a33-caba-848dfd4e418f"
      },
      "source": [
        "!ls"
      ],
      "execution_count": 4,
      "outputs": [
        {
          "output_type": "stream",
          "text": [
            "link_to_gcp_credits_form.txt\t\t     test.7z\n",
            "sample_submission.7z\t\t\t     train.7z\n",
            "tensorflow-speech-recognition-challenge.zip  Unpack_gjcto3tc\n"
          ],
          "name": "stdout"
        }
      ]
    },
    {
      "cell_type": "code",
      "metadata": {
        "id": "subUNqKIKPwp",
        "colab_type": "code",
        "colab": {
          "base_uri": "https://localhost:8080/",
          "height": 105
        },
        "outputId": "6e250e00-0fb2-4039-8aa9-a5d5d2f2b0c9"
      },
      "source": [
        "!pip install patool"
      ],
      "execution_count": 10,
      "outputs": [
        {
          "output_type": "stream",
          "text": [
            "Collecting patool\n",
            "\u001b[?25l  Downloading https://files.pythonhosted.org/packages/43/94/52243ddff508780dd2d8110964320ab4851134a55ab102285b46e740f76a/patool-1.12-py2.py3-none-any.whl (77kB)\n",
            "\r\u001b[K     |████▎                           | 10kB 23.0MB/s eta 0:00:01\r\u001b[K     |████████▌                       | 20kB 1.8MB/s eta 0:00:01\r\u001b[K     |████████████▊                   | 30kB 2.3MB/s eta 0:00:01\r\u001b[K     |█████████████████               | 40kB 2.6MB/s eta 0:00:01\r\u001b[K     |█████████████████████▏          | 51kB 2.0MB/s eta 0:00:01\r\u001b[K     |█████████████████████████▍      | 61kB 2.3MB/s eta 0:00:01\r\u001b[K     |█████████████████████████████▋  | 71kB 2.5MB/s eta 0:00:01\r\u001b[K     |████████████████████████████████| 81kB 2.2MB/s \n",
            "\u001b[?25hInstalling collected packages: patool\n",
            "Successfully installed patool-1.12\n"
          ],
          "name": "stdout"
        }
      ]
    },
    {
      "cell_type": "code",
      "metadata": {
        "id": "-jIp4ZR1KRe2",
        "colab_type": "code",
        "colab": {
          "base_uri": "https://localhost:8080/",
          "height": 89
        },
        "outputId": "82ff701f-b687-4b98-91af-56d121f395fb"
      },
      "source": [
        "import patoolib\n",
        "patoolib.extract_archive('train.7z')"
      ],
      "execution_count": 12,
      "outputs": [
        {
          "output_type": "stream",
          "text": [
            "patool: Extracting train.7z ...\n",
            "patool: running /usr/bin/7z x -o./Unpack_vc_2daf5 -- train.7z\n",
            "patool: ... train.7z extracted to `train'.\n"
          ],
          "name": "stdout"
        },
        {
          "output_type": "execute_result",
          "data": {
            "application/vnd.google.colaboratory.intrinsic+json": {
              "type": "string"
            },
            "text/plain": [
              "'train'"
            ]
          },
          "metadata": {
            "tags": []
          },
          "execution_count": 12
        }
      ]
    },
    {
      "cell_type": "markdown",
      "metadata": {
        "id": "e03Dx5G5H7BN",
        "colab_type": "text"
      },
      "source": [
        "### Import libraries"
      ]
    },
    {
      "cell_type": "code",
      "metadata": {
        "id": "K2QLWh0HHF9A",
        "colab_type": "code",
        "colab": {}
      },
      "source": [
        "import os\n",
        "import librosa   #for audio processing\n",
        "import IPython.display as ipd\n",
        "import matplotlib.pyplot as plt\n",
        "import numpy as np\n",
        "from scipy.io import wavfile #for audio processing\n",
        "import warnings\n",
        "warnings.filterwarnings(\"ignore\")"
      ],
      "execution_count": 4,
      "outputs": []
    },
    {
      "cell_type": "markdown",
      "metadata": {
        "id": "TaDR7mz5LsWQ",
        "colab_type": "text"
      },
      "source": [
        "## Data visualization"
      ]
    },
    {
      "cell_type": "code",
      "metadata": {
        "id": "BKvXGQe2pUKh",
        "colab_type": "code",
        "colab": {}
      },
      "source": [
        "train_audio_path = 'train/audio/'"
      ],
      "execution_count": 5,
      "outputs": []
    },
    {
      "cell_type": "code",
      "metadata": {
        "id": "fxjJu3rPH_u3",
        "colab_type": "code",
        "colab": {
          "base_uri": "https://localhost:8080/",
          "height": 294
        },
        "outputId": "56db7d10-d6dc-4538-9beb-50069f6421a3"
      },
      "source": [
        "samples, sample_rate = librosa.load(train_audio_path+'six/0a7c2a8d_nohash_0.wav', sr = 16000)\n",
        "fig = plt.figure(figsize=(14, 8))\n",
        "ax1 = fig.add_subplot(211)\n",
        "ax1.set_title('Raw wave of ' + '../input/train/audio/six/0a7c2a8d_nohash_0.wav')\n",
        "ax1.set_xlabel('time')\n",
        "ax1.set_ylabel('Amplitude')\n",
        "ax1.plot(np.linspace(0, sample_rate/len(samples), sample_rate), samples)"
      ],
      "execution_count": 10,
      "outputs": [
        {
          "output_type": "execute_result",
          "data": {
            "text/plain": [
              "[<matplotlib.lines.Line2D at 0x7f77bacca0f0>]"
            ]
          },
          "metadata": {
            "tags": []
          },
          "execution_count": 10
        },
        {
          "output_type": "display_data",
          "data": {
            "image/png": "[encoded data removed]",
            "text/plain": [
              "<Figure size 1008x576 with 1 Axes>"
            ]
          },
          "metadata": {
            "tags": [],
            "needs_background": "light"
          }
        }
      ]
    },
    {
      "cell_type": "code",
      "metadata": {
        "id": "uptpQ-83H_xb",
        "colab_type": "code",
        "colab": {
          "base_uri": "https://localhost:8080/",
          "height": 34
        },
        "outputId": "00d3af26-1055-429d-e85a-8175ccc6ef83"
      },
      "source": [
        "# sampling rate\n",
        "ipd.Audio(samples, rate=sample_rate)\n",
        "print(sample_rate)"
      ],
      "execution_count": 11,
      "outputs": [
        {
          "output_type": "stream",
          "text": [
            "16000\n"
          ],
          "name": "stdout"
        }
      ]
    },
    {
      "cell_type": "code",
      "metadata": {
        "id": "YA8wCJZBH_2k",
        "colab_type": "code",
        "colab": {
          "base_uri": "https://localhost:8080/",
          "height": 75
        },
        "outputId": "72f1b8dd-50ac-442e-c0aa-238600ec2bf9"
      },
      "source": [
        "# resampling\n",
        "samples = librosa.resample(samples, sample_rate, 8000)\n",
        "ipd.Audio(samples, rate=8000)"
      ],
      "execution_count": 12,
      "outputs": [
        {
          "output_type": "execute_result",
          "data": {
            "text/html": [
              "\n",
              "                <audio controls=\"controls\" >\n",
              "                    <source src=\"data:audio/wav;base64,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\" type=\"audio/wav\" />\n",
              "                    Your browser does not support the audio element.\n",
              "                </audio>\n",
              "              "
            ],
            "text/plain": [
              "<IPython.lib.display.Audio object>"
            ]
          },
          "metadata": {
            "tags": []
          },
          "execution_count": 12
        }
      ]
    },
    {
      "cell_type": "code",
      "metadata": {
        "id": "x_ggjg2WpY2l",
        "colab_type": "code",
        "colab": {}
      },
      "source": [
        ""
      ],
      "execution_count": null,
      "outputs": []
    },
    {
      "cell_type": "code",
      "metadata": {
        "id": "6dZufcN1pY6L",
        "colab_type": "code",
        "colab": {}
      },
      "source": [
        "labels=os.listdir(train_audio_path)"
      ],
      "execution_count": 8,
      "outputs": []
    },
    {
      "cell_type": "code",
      "metadata": {
        "id": "CTv6ug58QF13",
        "colab_type": "code",
        "colab": {}
      },
      "source": [
        "# remove empty folders\n",
        "for label in labels:\n",
        "  if len(os.listdir(train_audio_path + '/'+ label)) == 0:\n",
        "    os.rmdir(train_audio_path + '/'+ label)"
      ],
      "execution_count": 9,
      "outputs": []
    },
    {
      "cell_type": "code",
      "metadata": {
        "id": "xY7kixrGH_0v",
        "colab_type": "code",
        "colab": {
          "base_uri": "https://localhost:8080/",
          "height": 382
        },
        "outputId": "69375142-f4dc-4fe9-ed39-62ddeeae30de"
      },
      "source": [
        "#find count of each label and plot bar graph\n",
        "no_of_recordings=[]\n",
        "for label in labels:\n",
        "    waves = [f for f in os.listdir(train_audio_path + '/'+ label) if f.endswith('.wav')]\n",
        "    no_of_recordings.append(len(waves))\n",
        "    \n",
        "#plot\n",
        "plt.figure(figsize=(30,5))\n",
        "index = np.arange(len(labels))\n",
        "plt.bar(index, no_of_recordings)\n",
        "plt.xlabel('Commands', fontsize=12)\n",
        "plt.ylabel('No of recordings', fontsize=12)\n",
        "plt.xticks(index, labels, fontsize=15, rotation=60)\n",
        "plt.title('No. of recordings for each command')\n",
        "plt.show()"
      ],
      "execution_count": 17,
      "outputs": [
        {
          "output_type": "display_data",
          "data": {
            "image/png": "[encoded data removed]",
            "text/plain": [
              "<Figure size 2160x360 with 1 Axes>"
            ]
          },
          "metadata": {
            "tags": [],
            "needs_background": "light"
          }
        }
      ]
    },
    {
      "cell_type": "markdown",
      "metadata": {
        "id": "6teqOzBxMapM",
        "colab_type": "text"
      },
      "source": [
        "## Data preprocessing"
      ]
    },
    {
      "cell_type": "markdown",
      "metadata": {
        "id": "RdXiEFZECNe3",
        "colab_type": "text"
      },
      "source": [
        "The data preprocessing takes quite a substantial time. Thus, I narrowed down to 5 classes in this analysis."
      ]
    },
    {
      "cell_type": "code",
      "metadata": {
        "id": "IoUzcBftB2DX",
        "colab_type": "code",
        "colab": {}
      },
      "source": [
        "labels = ['bed', '_background_noise_', 'bird', 'happy' , 'dog']"
      ],
      "execution_count": 6,
      "outputs": []
    },
    {
      "cell_type": "code",
      "metadata": {
        "id": "OP5-KwkmMX7G",
        "colab_type": "code",
        "colab": {
          "base_uri": "https://localhost:8080/",
          "height": 105
        },
        "outputId": "9966e360-1ea2-4a3c-e026-163b444283f3"
      },
      "source": [
        "all_wave = []\n",
        "all_label = []\n",
        "for label in labels:\n",
        "    print(label)\n",
        "    waves = [f for f in os.listdir(os.path.join(train_audio_path,label)) if f.endswith('.wav')]\n",
        "    for wav in waves:\n",
        "        samples, sample_rate = librosa.load(os.path.join(train_audio_path,label,wav), sr = 16000)\n",
        "        samples = librosa.resample(samples, sample_rate, 8000)\n",
        "        if(len(samples)== 8000) : \n",
        "            all_wave.append(samples)\n",
        "            all_label.append(label)"
      ],
      "execution_count": 9,
      "outputs": [
        {
          "output_type": "stream",
          "text": [
            "bed\n",
            "_background_noise_\n",
            "bird\n",
            "happy\n",
            "dog\n"
          ],
          "name": "stdout"
        }
      ]
    },
    {
      "cell_type": "code",
      "metadata": {
        "id": "4skTCWwAbXCL",
        "colab_type": "code",
        "colab": {}
      },
      "source": [
        "import pickle\n",
        "with open('train/all_wave.pkl', 'wb') as f:\n",
        "  pickle.dump(all_wave, f)\n",
        "with open('train/all_label.pkl', 'wb') as f:\n",
        "  pickle.dump(all_label, f)"
      ],
      "execution_count": 10,
      "outputs": []
    },
    {
      "cell_type": "code",
      "metadata": {
        "id": "qaXQjA6rVR3q",
        "colab_type": "code",
        "colab": {}
      },
      "source": [
        "all_wave = pickle.load(open('train/all_wave.pkl', 'rb'))\n",
        "all_label = pickle.load(open('train/all_label.pkl', 'rb'))"
      ],
      "execution_count": 8,
      "outputs": []
    },
    {
      "cell_type": "code",
      "metadata": {
        "id": "x16YlDFqYFmC",
        "colab_type": "code",
        "colab": {
          "base_uri": "https://localhost:8080/",
          "height": 34
        },
        "outputId": "d0ea1ed4-57e1-4c2d-b70c-d1b94573be2a"
      },
      "source": [
        "print(len(all_wave))"
      ],
      "execution_count": 28,
      "outputs": [
        {
          "output_type": "stream",
          "text": [
            "6101\n"
          ],
          "name": "stdout"
        }
      ]
    },
    {
      "cell_type": "markdown",
      "metadata": {
        "id": "NeKdxFr5MnMV",
        "colab_type": "text"
      },
      "source": [
        "### Convert labels to integer encoded"
      ]
    },
    {
      "cell_type": "code",
      "metadata": {
        "id": "awb4_MN9MYdQ",
        "colab_type": "code",
        "colab": {}
      },
      "source": [
        "from sklearn.preprocessing import LabelEncoder\n",
        "le = LabelEncoder()\n",
        "y = le.fit_transform(all_label)\n",
        "classes = list(le.classes_)"
      ],
      "execution_count": 11,
      "outputs": []
    },
    {
      "cell_type": "code",
      "metadata": {
        "id": "KRZlYHpgMYfv",
        "colab_type": "code",
        "colab": {}
      },
      "source": [
        "from tensorflow.keras.utils import to_categorical\n",
        "y = to_categorical(y, num_classes=len(labels))"
      ],
      "execution_count": 12,
      "outputs": []
    },
    {
      "cell_type": "code",
      "metadata": {
        "id": "BXXDFG_0MYlK",
        "colab_type": "code",
        "colab": {}
      },
      "source": [
        "# reshape from 2D to 3D array\n",
        "all_wave = np.array(all_wave).reshape(-1,8000,1)"
      ],
      "execution_count": 13,
      "outputs": []
    },
    {
      "cell_type": "markdown",
      "metadata": {
        "id": "-ZAN03EEM42X",
        "colab_type": "text"
      },
      "source": [
        "### Split into training and validation set"
      ]
    },
    {
      "cell_type": "code",
      "metadata": {
        "id": "vJiO2AmdMYik",
        "colab_type": "code",
        "colab": {}
      },
      "source": [
        "from sklearn.model_selection import train_test_split\n",
        "X_train, X_val, y_train, y_val = train_test_split(np.array(all_wave),np.array(y),stratify=y,test_size = 0.2,random_state=777,shuffle=True)"
      ],
      "execution_count": 17,
      "outputs": []
    },
    {
      "cell_type": "markdown",
      "metadata": {
        "id": "gqer2ZX1NEV-",
        "colab_type": "text"
      },
      "source": [
        "## Train model"
      ]
    },
    {
      "cell_type": "code",
      "metadata": {
        "id": "-NAAuOTxM3Fs",
        "colab_type": "code",
        "colab": {
          "base_uri": "https://localhost:8080/",
          "height": 826
        },
        "outputId": "abea6dfa-b6af-4ea8-9193-dea815b219ff"
      },
      "source": [
        "from tensorflow.keras.layers import Dense, Dropout, Flatten, Conv1D, Input, MaxPooling1D\n",
        "from tensorflow.keras import Model\n",
        "from tensorflow.keras.callbacks import EarlyStopping, ModelCheckpoint\n",
        "\n",
        "inputs = Input(shape=(8000,1))\n",
        "\n",
        "#First Conv1D layer\n",
        "x = Conv1D(8,13, padding='valid', activation='relu', strides=1)(inputs)\n",
        "x = MaxPooling1D(3)(x)\n",
        "x = Dropout(0.3)(x)\n",
        "\n",
        "#Second Conv1D layer\n",
        "x = Conv1D(16, 11, padding='valid', activation='relu', strides=1)(x)\n",
        "x = MaxPooling1D(3)(x)\n",
        "x = Dropout(0.3)(x)\n",
        "\n",
        "#Third Conv1D layer\n",
        "x = Conv1D(32, 9, padding='valid', activation='relu', strides=1)(x)\n",
        "x = MaxPooling1D(3)(x)\n",
        "x = Dropout(0.3)(x)\n",
        "\n",
        "#Fourth Conv1D layer\n",
        "x = Conv1D(64, 7, padding='valid', activation='relu', strides=1)(x)\n",
        "x = MaxPooling1D(3)(x)\n",
        "x = Dropout(0.3)(x)\n",
        "\n",
        "#Flatten layer\n",
        "x = Flatten()(x)\n",
        "\n",
        "#Dense Layer 1\n",
        "x = Dense(256, activation='relu')(x)\n",
        "x = Dropout(0.3)(x)\n",
        "\n",
        "#Dense Layer 2\n",
        "x = Dense(128, activation='relu')(x)\n",
        "x = Dropout(0.3)(x)\n",
        "\n",
        "outputs = Dense(len(labels), activation='softmax')(x)\n",
        "\n",
        "model = Model(inputs, outputs)\n",
        "model.summary()"
      ],
      "execution_count": 21,
      "outputs": [
        {
          "output_type": "stream",
          "text": [
            "Model: \"functional_3\"\n",
            "_________________________________________________________________\n",
            "Layer (type)                 Output Shape              Param #   \n",
            "=================================================================\n",
            "input_2 (InputLayer)         [(None, 8000, 1)]         0         \n",
            "_________________________________________________________________\n",
            "conv1d_4 (Conv1D)            (None, 7988, 8)           112       \n",
            "_________________________________________________________________\n",
            "max_pooling1d_4 (MaxPooling1 (None, 2662, 8)           0         \n",
            "_________________________________________________________________\n",
            "dropout_6 (Dropout)          (None, 2662, 8)           0         \n",
            "_________________________________________________________________\n",
            "conv1d_5 (Conv1D)            (None, 2652, 16)          1424      \n",
            "_________________________________________________________________\n",
            "max_pooling1d_5 (MaxPooling1 (None, 884, 16)           0         \n",
            "_________________________________________________________________\n",
            "dropout_7 (Dropout)          (None, 884, 16)           0         \n",
            "_________________________________________________________________\n",
            "conv1d_6 (Conv1D)            (None, 876, 32)           4640      \n",
            "_________________________________________________________________\n",
            "max_pooling1d_6 (MaxPooling1 (None, 292, 32)           0         \n",
            "_________________________________________________________________\n",
            "dropout_8 (Dropout)          (None, 292, 32)           0         \n",
            "_________________________________________________________________\n",
            "conv1d_7 (Conv1D)            (None, 286, 64)           14400     \n",
            "_________________________________________________________________\n",
            "max_pooling1d_7 (MaxPooling1 (None, 95, 64)            0         \n",
            "_________________________________________________________________\n",
            "dropout_9 (Dropout)          (None, 95, 64)            0         \n",
            "_________________________________________________________________\n",
            "flatten_1 (Flatten)          (None, 6080)              0         \n",
            "_________________________________________________________________\n",
            "dense_3 (Dense)              (None, 256)               1556736   \n",
            "_________________________________________________________________\n",
            "dropout_10 (Dropout)         (None, 256)               0         \n",
            "_________________________________________________________________\n",
            "dense_4 (Dense)              (None, 128)               32896     \n",
            "_________________________________________________________________\n",
            "dropout_11 (Dropout)         (None, 128)               0         \n",
            "_________________________________________________________________\n",
            "dense_5 (Dense)              (None, 5)                 645       \n",
            "=================================================================\n",
            "Total params: 1,610,853\n",
            "Trainable params: 1,610,853\n",
            "Non-trainable params: 0\n",
            "_________________________________________________________________\n"
          ],
          "name": "stdout"
        }
      ]
    },
    {
      "cell_type": "code",
      "metadata": {
        "id": "N3m8e_HNM3IR",
        "colab_type": "code",
        "colab": {}
      },
      "source": [
        "from tensorflow.keras.optimizers import Adam\n",
        "model.compile(loss='categorical_crossentropy',optimizer=Adam(learning_rate=0.001),metrics=['accuracy'])\n",
        "\n",
        "es = EarlyStopping(monitor='val_loss', mode='min', verbose=1, patience=10, min_delta=0.0001) \n",
        "mc = ModelCheckpoint('best_model.hdf5', monitor='val_accuracy', verbose=1, save_best_only=True, mode='max')"
      ],
      "execution_count": 22,
      "outputs": []
    },
    {
      "cell_type": "code",
      "metadata": {
        "id": "SMRqUOw9M3LQ",
        "colab_type": "code",
        "colab": {
          "base_uri": "https://localhost:8080/",
          "height": 1000
        },
        "outputId": "ef3daaf5-94b1-4ed5-e2bc-21d79b97288d"
      },
      "source": [
        "history = model.fit(X_train, y_train ,epochs=100, callbacks=[es,mc], batch_size=32, validation_data=(X_val,y_val))"
      ],
      "execution_count": 23,
      "outputs": [
        {
          "output_type": "stream",
          "text": [
            "Epoch 1/100\n",
            "152/153 [============================>.] - ETA: 0s - loss: 1.4091 - accuracy: 0.2708\n",
            "Epoch 00001: val_accuracy improved from -inf to 0.39558, saving model to best_model.hdf5\n",
            "153/153 [==============================] - 2s 12ms/step - loss: 1.4087 - accuracy: 0.2707 - val_loss: 1.2926 - val_accuracy: 0.3956\n",
            "Epoch 2/100\n",
            "145/153 [===========================>..] - ETA: 0s - loss: 1.1514 - accuracy: 0.4916\n",
            "Epoch 00002: val_accuracy improved from 0.39558 to 0.60278, saving model to best_model.hdf5\n",
            "153/153 [==============================] - 1s 8ms/step - loss: 1.1513 - accuracy: 0.4916 - val_loss: 1.0101 - val_accuracy: 0.6028\n",
            "Epoch 3/100\n",
            "152/153 [============================>.] - ETA: 0s - loss: 0.8687 - accuracy: 0.6419\n",
            "Epoch 00003: val_accuracy improved from 0.60278 to 0.68059, saving model to best_model.hdf5\n",
            "153/153 [==============================] - 1s 8ms/step - loss: 0.8689 - accuracy: 0.6414 - val_loss: 0.7558 - val_accuracy: 0.6806\n",
            "Epoch 4/100\n",
            "149/153 [============================>.] - ETA: 0s - loss: 0.7237 - accuracy: 0.7011\n",
            "Epoch 00004: val_accuracy improved from 0.68059 to 0.76495, saving model to best_model.hdf5\n",
            "153/153 [==============================] - 1s 8ms/step - loss: 0.7219 - accuracy: 0.7016 - val_loss: 0.5896 - val_accuracy: 0.7649\n",
            "Epoch 5/100\n",
            "147/153 [===========================>..] - ETA: 0s - loss: 0.6069 - accuracy: 0.7449\n",
            "Epoch 00005: val_accuracy did not improve from 0.76495\n",
            "153/153 [==============================] - 1s 7ms/step - loss: 0.6081 - accuracy: 0.7434 - val_loss: 0.7398 - val_accuracy: 0.6790\n",
            "Epoch 6/100\n",
            "152/153 [============================>.] - ETA: 0s - loss: 0.5634 - accuracy: 0.7681\n",
            "Epoch 00006: val_accuracy improved from 0.76495 to 0.80426, saving model to best_model.hdf5\n",
            "153/153 [==============================] - 1s 8ms/step - loss: 0.5635 - accuracy: 0.7680 - val_loss: 0.5359 - val_accuracy: 0.8043\n",
            "Epoch 7/100\n",
            "146/153 [===========================>..] - ETA: 0s - loss: 0.5028 - accuracy: 0.7971\n",
            "Epoch 00007: val_accuracy improved from 0.80426 to 0.82883, saving model to best_model.hdf5\n",
            "153/153 [==============================] - 1s 8ms/step - loss: 0.5039 - accuracy: 0.7955 - val_loss: 0.4481 - val_accuracy: 0.8288\n",
            "Epoch 8/100\n",
            "152/153 [============================>.] - ETA: 0s - loss: 0.4547 - accuracy: 0.8193\n",
            "Epoch 00008: val_accuracy did not improve from 0.82883\n",
            "153/153 [==============================] - 1s 7ms/step - loss: 0.4540 - accuracy: 0.8197 - val_loss: 0.4580 - val_accuracy: 0.8256\n",
            "Epoch 9/100\n",
            "148/153 [============================>.] - ETA: 0s - loss: 0.4141 - accuracy: 0.8355\n",
            "Epoch 00009: val_accuracy improved from 0.82883 to 0.86568, saving model to best_model.hdf5\n",
            "153/153 [==============================] - 1s 9ms/step - loss: 0.4146 - accuracy: 0.8350 - val_loss: 0.3869 - val_accuracy: 0.8657\n",
            "Epoch 10/100\n",
            "152/153 [============================>.] - ETA: 0s - loss: 0.3859 - accuracy: 0.8565\n",
            "Epoch 00010: val_accuracy did not improve from 0.86568\n",
            "153/153 [==============================] - 1s 7ms/step - loss: 0.3855 - accuracy: 0.8564 - val_loss: 0.3941 - val_accuracy: 0.8559\n",
            "Epoch 11/100\n",
            "145/153 [===========================>..] - ETA: 0s - loss: 0.3604 - accuracy: 0.8675\n",
            "Epoch 00011: val_accuracy did not improve from 0.86568\n",
            "153/153 [==============================] - 1s 7ms/step - loss: 0.3558 - accuracy: 0.8695 - val_loss: 0.3996 - val_accuracy: 0.8591\n",
            "Epoch 12/100\n",
            "147/153 [===========================>..] - ETA: 0s - loss: 0.3124 - accuracy: 0.8839\n",
            "Epoch 00012: val_accuracy improved from 0.86568 to 0.87797, saving model to best_model.hdf5\n",
            "153/153 [==============================] - 1s 8ms/step - loss: 0.3120 - accuracy: 0.8842 - val_loss: 0.3505 - val_accuracy: 0.8780\n",
            "Epoch 13/100\n",
            "146/153 [===========================>..] - ETA: 0s - loss: 0.2757 - accuracy: 0.8970\n",
            "Epoch 00013: val_accuracy improved from 0.87797 to 0.88206, saving model to best_model.hdf5\n",
            "153/153 [==============================] - 1s 8ms/step - loss: 0.2743 - accuracy: 0.8980 - val_loss: 0.3465 - val_accuracy: 0.8821\n",
            "Epoch 14/100\n",
            "147/153 [===========================>..] - ETA: 0s - loss: 0.2507 - accuracy: 0.9043\n",
            "Epoch 00014: val_accuracy improved from 0.88206 to 0.89762, saving model to best_model.hdf5\n",
            "153/153 [==============================] - 1s 8ms/step - loss: 0.2490 - accuracy: 0.9055 - val_loss: 0.3055 - val_accuracy: 0.8976\n",
            "Epoch 15/100\n",
            "150/153 [============================>.] - ETA: 0s - loss: 0.2371 - accuracy: 0.9135\n",
            "Epoch 00015: val_accuracy did not improve from 0.89762\n",
            "153/153 [==============================] - 1s 7ms/step - loss: 0.2354 - accuracy: 0.9141 - val_loss: 0.3250 - val_accuracy: 0.8935\n",
            "Epoch 16/100\n",
            "150/153 [============================>.] - ETA: 0s - loss: 0.2332 - accuracy: 0.9154\n",
            "Epoch 00016: val_accuracy improved from 0.89762 to 0.92219, saving model to best_model.hdf5\n",
            "153/153 [==============================] - 1s 8ms/step - loss: 0.2314 - accuracy: 0.9158 - val_loss: 0.2653 - val_accuracy: 0.9222\n",
            "Epoch 17/100\n",
            "148/153 [============================>.] - ETA: 0s - loss: 0.1884 - accuracy: 0.9343\n",
            "Epoch 00017: val_accuracy did not improve from 0.92219\n",
            "153/153 [==============================] - 1s 7ms/step - loss: 0.1900 - accuracy: 0.9334 - val_loss: 0.2663 - val_accuracy: 0.9165\n",
            "Epoch 18/100\n",
            "150/153 [============================>.] - ETA: 0s - loss: 0.1960 - accuracy: 0.9312\n",
            "Epoch 00018: val_accuracy did not improve from 0.92219\n",
            "153/153 [==============================] - 1s 7ms/step - loss: 0.1953 - accuracy: 0.9309 - val_loss: 0.2671 - val_accuracy: 0.9099\n",
            "Epoch 19/100\n",
            "152/153 [============================>.] - ETA: 0s - loss: 0.1773 - accuracy: 0.9326\n",
            "Epoch 00019: val_accuracy did not improve from 0.92219\n",
            "153/153 [==============================] - 1s 7ms/step - loss: 0.1770 - accuracy: 0.9328 - val_loss: 0.4833 - val_accuracy: 0.8714\n",
            "Epoch 20/100\n",
            "153/153 [==============================] - ETA: 0s - loss: 0.1738 - accuracy: 0.9365\n",
            "Epoch 00020: val_accuracy improved from 0.92219 to 0.93202, saving model to best_model.hdf5\n",
            "153/153 [==============================] - 1s 8ms/step - loss: 0.1738 - accuracy: 0.9365 - val_loss: 0.2119 - val_accuracy: 0.9320\n",
            "Epoch 21/100\n",
            "152/153 [============================>.] - ETA: 0s - loss: 0.1433 - accuracy: 0.9472\n",
            "Epoch 00021: val_accuracy did not improve from 0.93202\n",
            "153/153 [==============================] - 1s 7ms/step - loss: 0.1433 - accuracy: 0.9473 - val_loss: 0.2865 - val_accuracy: 0.9066\n",
            "Epoch 22/100\n",
            "151/153 [============================>.] - ETA: 0s - loss: 0.1430 - accuracy: 0.9497\n",
            "Epoch 00022: val_accuracy did not improve from 0.93202\n",
            "153/153 [==============================] - 1s 7ms/step - loss: 0.1422 - accuracy: 0.9502 - val_loss: 0.2584 - val_accuracy: 0.9197\n",
            "Epoch 23/100\n",
            "146/153 [===========================>..] - ETA: 0s - loss: 0.1301 - accuracy: 0.9516\n",
            "Epoch 00023: val_accuracy did not improve from 0.93202\n",
            "153/153 [==============================] - 1s 7ms/step - loss: 0.1341 - accuracy: 0.9500 - val_loss: 0.2686 - val_accuracy: 0.9115\n",
            "Epoch 24/100\n",
            "149/153 [============================>.] - ETA: 0s - loss: 0.1578 - accuracy: 0.9417\n",
            "Epoch 00024: val_accuracy improved from 0.93202 to 0.93530, saving model to best_model.hdf5\n",
            "153/153 [==============================] - 1s 8ms/step - loss: 0.1570 - accuracy: 0.9420 - val_loss: 0.2034 - val_accuracy: 0.9353\n",
            "Epoch 25/100\n",
            "153/153 [==============================] - ETA: 0s - loss: 0.1243 - accuracy: 0.9508\n",
            "Epoch 00025: val_accuracy did not improve from 0.93530\n",
            "153/153 [==============================] - 1s 7ms/step - loss: 0.1243 - accuracy: 0.9508 - val_loss: 0.2439 - val_accuracy: 0.9238\n",
            "Epoch 26/100\n",
            "152/153 [============================>.] - ETA: 0s - loss: 0.1101 - accuracy: 0.9603\n",
            "Epoch 00026: val_accuracy did not improve from 0.93530\n",
            "153/153 [==============================] - 1s 7ms/step - loss: 0.1109 - accuracy: 0.9598 - val_loss: 0.2358 - val_accuracy: 0.9345\n",
            "Epoch 27/100\n",
            "151/153 [============================>.] - ETA: 0s - loss: 0.1124 - accuracy: 0.9596\n",
            "Epoch 00027: val_accuracy improved from 0.93530 to 0.93694, saving model to best_model.hdf5\n",
            "153/153 [==============================] - 1s 8ms/step - loss: 0.1119 - accuracy: 0.9598 - val_loss: 0.1898 - val_accuracy: 0.9369\n",
            "Epoch 28/100\n",
            "146/153 [===========================>..] - ETA: 0s - loss: 0.1174 - accuracy: 0.9578\n",
            "Epoch 00028: val_accuracy did not improve from 0.93694\n",
            "153/153 [==============================] - 1s 7ms/step - loss: 0.1202 - accuracy: 0.9566 - val_loss: 0.2007 - val_accuracy: 0.9328\n",
            "Epoch 29/100\n",
            "149/153 [============================>.] - ETA: 0s - loss: 0.1353 - accuracy: 0.9543\n",
            "Epoch 00029: val_accuracy did not improve from 0.93694\n",
            "153/153 [==============================] - 1s 7ms/step - loss: 0.1362 - accuracy: 0.9543 - val_loss: 0.2076 - val_accuracy: 0.9287\n",
            "Epoch 30/100\n",
            "149/153 [============================>.] - ETA: 0s - loss: 0.0954 - accuracy: 0.9656\n",
            "Epoch 00030: val_accuracy did not improve from 0.93694\n",
            "153/153 [==============================] - 1s 7ms/step - loss: 0.0967 - accuracy: 0.9652 - val_loss: 0.2612 - val_accuracy: 0.9247\n",
            "Epoch 31/100\n",
            "149/153 [============================>.] - ETA: 0s - loss: 0.1308 - accuracy: 0.9581\n",
            "Epoch 00031: val_accuracy did not improve from 0.93694\n",
            "153/153 [==============================] - 1s 7ms/step - loss: 0.1351 - accuracy: 0.9568 - val_loss: 0.3653 - val_accuracy: 0.8747\n",
            "Epoch 32/100\n",
            "146/153 [===========================>..] - ETA: 0s - loss: 0.1519 - accuracy: 0.9431\n",
            "Epoch 00032: val_accuracy did not improve from 0.93694\n",
            "153/153 [==============================] - 1s 7ms/step - loss: 0.1482 - accuracy: 0.9447 - val_loss: 0.2475 - val_accuracy: 0.9296\n",
            "Epoch 33/100\n",
            "146/153 [===========================>..] - ETA: 0s - loss: 0.0926 - accuracy: 0.9662\n",
            "Epoch 00033: val_accuracy improved from 0.93694 to 0.93776, saving model to best_model.hdf5\n",
            "153/153 [==============================] - 1s 8ms/step - loss: 0.0925 - accuracy: 0.9658 - val_loss: 0.2109 - val_accuracy: 0.9378\n",
            "Epoch 34/100\n",
            "152/153 [============================>.] - ETA: 0s - loss: 0.0815 - accuracy: 0.9683\n",
            "Epoch 00034: val_accuracy did not improve from 0.93776\n",
            "153/153 [==============================] - 1s 7ms/step - loss: 0.0812 - accuracy: 0.9684 - val_loss: 0.2350 - val_accuracy: 0.9337\n",
            "Epoch 35/100\n",
            "146/153 [===========================>..] - ETA: 0s - loss: 0.0730 - accuracy: 0.9750\n",
            "Epoch 00035: val_accuracy did not improve from 0.93776\n",
            "153/153 [==============================] - 1s 7ms/step - loss: 0.0726 - accuracy: 0.9750 - val_loss: 0.2422 - val_accuracy: 0.9312\n",
            "Epoch 36/100\n",
            "151/153 [============================>.] - ETA: 0s - loss: 0.0870 - accuracy: 0.9681\n",
            "Epoch 00036: val_accuracy improved from 0.93776 to 0.93857, saving model to best_model.hdf5\n",
            "153/153 [==============================] - 1s 8ms/step - loss: 0.0868 - accuracy: 0.9682 - val_loss: 0.2099 - val_accuracy: 0.9386\n",
            "Epoch 37/100\n",
            "146/153 [===========================>..] - ETA: 0s - loss: 0.0763 - accuracy: 0.9722\n",
            "Epoch 00037: val_accuracy did not improve from 0.93857\n",
            "153/153 [==============================] - 1s 7ms/step - loss: 0.0788 - accuracy: 0.9717 - val_loss: 0.2952 - val_accuracy: 0.9369\n",
            "Epoch 00037: early stopping\n"
          ],
          "name": "stdout"
        }
      ]
    },
    {
      "cell_type": "markdown",
      "metadata": {
        "id": "KV5W2XJoN6Pp",
        "colab_type": "text"
      },
      "source": [
        "### Visualize loss"
      ]
    },
    {
      "cell_type": "code",
      "metadata": {
        "id": "AMTV0qOMNj5I",
        "colab_type": "code",
        "colab": {}
      },
      "source": [
        "import matplotlib.pyplot as plt\n",
        "\n",
        "def plot_loss(history):\n",
        "  plt.plot(history.history['accuracy'])\n",
        "  plt.plot(history.history['val_accuracy'])\n",
        "\n",
        "  plt.title('model accuracy')\n",
        "  plt.ylabel('accuracy')\n",
        "  plt.xlabel('epoch')\n",
        "  plt.legend(['train','test'], loc='upper left')\n",
        "  plt.show()\n",
        "\n",
        "  plt.plot(history.history['loss'])\n",
        "  plt.plot(history.history['val_loss'])\n",
        "\n",
        "  plt.title('model loss')\n",
        "  plt.ylabel('loss')\n",
        "  plt.xlabel('epoch')\n",
        "  plt.legend(['train','test'], loc='upper left')\n",
        "  plt.show()"
      ],
      "execution_count": 26,
      "outputs": []
    },
    {
      "cell_type": "code",
      "metadata": {
        "id": "WhSg7DjGNkCr",
        "colab_type": "code",
        "colab": {
          "base_uri": "https://localhost:8080/",
          "height": 573
        },
        "outputId": "ab8a9a19-98f8-4a05-86dc-e635eb7f6770"
      },
      "source": [
        "plot_loss(history)"
      ],
      "execution_count": 27,
      "outputs": [
        {
          "output_type": "display_data",
          "data": {
            "image/png": "[encoded data removed]",
            "text/plain": [
              "<Figure size 432x288 with 1 Axes>"
            ]
          },
          "metadata": {
            "tags": [],
            "needs_background": "light"
          }
        },
        {
          "output_type": "display_data",
          "data": {
            "image/png": "[encoded data removed]",
            "text/plain": [
              "<Figure size 432x288 with 1 Axes>"
            ]
          },
          "metadata": {
            "tags": [],
            "needs_background": "light"
          }
        }
      ]
    },
    {
      "cell_type": "code",
      "metadata": {
        "id": "MxEm7TmwXGh4",
        "colab_type": "code",
        "colab": {}
      },
      "source": [
        ""
      ],
      "execution_count": null,
      "outputs": []
    }
  ]
}